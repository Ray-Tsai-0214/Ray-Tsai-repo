{
 "cells": [
  {
   "cell_type": "code",
   "execution_count": 38,
   "id": "47f4a432-af7e-44c1-8e0d-6fc12d341c75",
   "metadata": {},
   "outputs": [],
   "source": [
    "# Warning control\n",
    "import warnings\n",
    "warnings.filterwarnings('ignore')\n",
    "from crewai import Agent, Crew, Task\n",
    "import os\n",
    "from utils import get_openai_api_key,get_serper_api_key\n",
    "\n",
    "openai_api_key = get_openai_api_key()\n",
    "os.environ[\"OPENAI_API_KEY\"] = get_openai_api_key()\n",
    "os.environ[\"OPENAI_MODEL_NAME\"] = 'gpt-3.5-turbo'\n",
    "os.environ[\"SERPER_API_KEY\"] = get_serper_api_key()\n",
    "os.environ[\"GOOGLE_APPLICATION_CREDENTIALS\"] = 'nthu-project-account.json'"
   ]
  },
  {
   "cell_type": "code",
   "execution_count": 37,
   "id": "765fe4ec-3137-4ee0-8aef-bd591226c122",
   "metadata": {
    "scrolled": true
   },
   "outputs": [
    {
     "name": "stdout",
     "output_type": "stream",
     "text": [
      "Audio content written to file\"output.mp3\"\n"
     ]
    }
   ],
   "source": [
    "from google.cloud import texttospeech\n",
    "\n",
    "text_block = '''美國職籃（NBA）2024新人選秀今天（27）登場，除了前三名球員之外，外界都很好奇，頂著詹姆斯（LeBron James）之子光環的布朗尼（Bronny James），究竟會在什麼順位，或是被哪隻球隊挑走。稍早第一輪30順位全數出爐，布朗尼並沒有獲得任何球隊青睞，目前仍未被選中。\n",
    "根據ESPN報導，父親詹姆斯效力的洛杉磯湖人球隊，稍早在第一輪第17順位，挑中來自田納西大學的射手奈契特（Dalton Knecht），並未挑選布朗尼。\n",
    "從公開資料顯示，奈契特身高6呎6吋（約等於198.1公分），負責後衛位置，來自田納西的他，過去3年繳出不錯的成績，2023-24球季場均攻下21.7分、4.9個籃板，投籃命中率則維持在45.8%、三分命中率也有39.7%的表現。\n",
    "'''\n",
    "\n",
    "client = texttospeech.TextToSpeechClient()\n",
    "\n",
    "synthesis_input = texttospeech.SynthesisInput(text = text_block)\n",
    "\n",
    "voice = texttospeech.VoiceSelectionParams(\n",
    "    language_code = \"cmn-TW\",\n",
    "    name = 'cmn-TW-Wavenet-A'\n",
    ")\n",
    "\n",
    "audio_config = texttospeech.AudioConfig(\n",
    "    audio_encoding = texttospeech.AudioEncoding.MP3,\n",
    "    effects_profile_id = ['small-bluetooth-speaker-class-device'],\n",
    "    speaking_rate = 1,\n",
    "    pitch = 1\n",
    ")\n",
    "\n",
    "response = client.synthesize_speech(\n",
    "    input = synthesis_input,\n",
    "    voice = voice,\n",
    "    audio_config = audio_config\n",
    ")\n",
    "with open(\"output.mp3\",\"wb\") as out:\n",
    "    out.write(response.audio_content)\n",
    "    print('Audio content written to file\"output.mp3\"')\n",
    "\n"
   ]
  }
 ],
 "metadata": {
  "kernelspec": {
   "display_name": "Python 3 (ipykernel)",
   "language": "python",
   "name": "python3"
  },
  "language_info": {
   "codemirror_mode": {
    "name": "ipython",
    "version": 3
   },
   "file_extension": ".py",
   "mimetype": "text/x-python",
   "name": "python",
   "nbconvert_exporter": "python",
   "pygments_lexer": "ipython3",
   "version": "3.12.2"
  }
 },
 "nbformat": 4,
 "nbformat_minor": 5
}
